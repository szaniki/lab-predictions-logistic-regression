{
 "cells": [
  {
   "cell_type": "code",
   "execution_count": 3,
   "id": "51b889de",
   "metadata": {},
   "outputs": [
    {
     "name": "stdout",
     "output_type": "stream",
     "text": [
      "········\n"
     ]
    }
   ],
   "source": [
    "# prep: import modules and get pwd\n",
    "import pymysql\n",
    "from sqlalchemy import create_engine\n",
    "import pandas as pd\n",
    "import getpass  # To get the password without showing the input\n",
    "password = getpass.getpass()"
   ]
  },
  {
   "cell_type": "code",
   "execution_count": 4,
   "id": "57d44a03",
   "metadata": {},
   "outputs": [],
   "source": [
    "connection_string = 'mysql+pymysql://root:' + password + '@localhost/sakila'\n",
    "engine = create_engine(connection_string) "
   ]
  },
  {
   "cell_type": "markdown",
   "id": "5ae4556e",
   "metadata": {},
   "source": [
    "#### 1. Create a query or queries to extract the information you think may be relevant for building the prediction model. It should include some film features and some rental features. Use the data from 2005. "
   ]
  },
  {
   "cell_type": "code",
   "execution_count": 5,
   "id": "5f07ac08",
   "metadata": {},
   "outputs": [],
   "source": [
    "query = ''' SELECT\n",
    "    f.title,\n",
    "    f.rental_duration,\n",
    "    f.rental_rate,\n",
    "    f.length,\n",
    "    f.rating,\n",
    "    c.name AS ‘category’,\n",
    "    r.rental_date\n",
    "FROM\n",
    "    film f\n",
    "        INNER JOIN\n",
    "    inventory i ON f.film_id = i.film_id\n",
    "        INNER JOIN\n",
    "    film_category f_c ON f_c.film_id = f.film_id\n",
    "        INNER JOIN\n",
    "    category c ON f_c.category_id = c.category_id\n",
    "        RIGHT JOIN\n",
    "    rental r ON r.inventory_id = i.inventory_id;'''"
   ]
  },
  {
   "cell_type": "code",
   "execution_count": 6,
   "id": "bd3e93c6",
   "metadata": {},
   "outputs": [
    {
     "data": {
      "text/html": [
       "<div>\n",
       "<style scoped>\n",
       "    .dataframe tbody tr th:only-of-type {\n",
       "        vertical-align: middle;\n",
       "    }\n",
       "\n",
       "    .dataframe tbody tr th {\n",
       "        vertical-align: top;\n",
       "    }\n",
       "\n",
       "    .dataframe thead th {\n",
       "        text-align: right;\n",
       "    }\n",
       "</style>\n",
       "<table border=\"1\" class=\"dataframe\">\n",
       "  <thead>\n",
       "    <tr style=\"text-align: right;\">\n",
       "      <th></th>\n",
       "      <th>title</th>\n",
       "      <th>rental_duration</th>\n",
       "      <th>rental_rate</th>\n",
       "      <th>length</th>\n",
       "      <th>rating</th>\n",
       "      <th>‘category’</th>\n",
       "      <th>rental_date</th>\n",
       "    </tr>\n",
       "  </thead>\n",
       "  <tbody>\n",
       "    <tr>\n",
       "      <th>0</th>\n",
       "      <td>BLANKET BEVERLY</td>\n",
       "      <td>7</td>\n",
       "      <td>2.99</td>\n",
       "      <td>148</td>\n",
       "      <td>G</td>\n",
       "      <td>Family</td>\n",
       "      <td>2005-05-24 22:53:30</td>\n",
       "    </tr>\n",
       "    <tr>\n",
       "      <th>1</th>\n",
       "      <td>FREAKY POCUS</td>\n",
       "      <td>7</td>\n",
       "      <td>2.99</td>\n",
       "      <td>126</td>\n",
       "      <td>R</td>\n",
       "      <td>Music</td>\n",
       "      <td>2005-05-24 22:54:33</td>\n",
       "    </tr>\n",
       "    <tr>\n",
       "      <th>2</th>\n",
       "      <td>GRADUATE LORD</td>\n",
       "      <td>7</td>\n",
       "      <td>2.99</td>\n",
       "      <td>156</td>\n",
       "      <td>G</td>\n",
       "      <td>Children</td>\n",
       "      <td>2005-05-24 23:03:39</td>\n",
       "    </tr>\n",
       "    <tr>\n",
       "      <th>3</th>\n",
       "      <td>LOVE SUICIDES</td>\n",
       "      <td>6</td>\n",
       "      <td>0.99</td>\n",
       "      <td>181</td>\n",
       "      <td>R</td>\n",
       "      <td>Horror</td>\n",
       "      <td>2005-05-24 23:04:41</td>\n",
       "    </tr>\n",
       "    <tr>\n",
       "      <th>4</th>\n",
       "      <td>IDOLS SNATCHERS</td>\n",
       "      <td>5</td>\n",
       "      <td>2.99</td>\n",
       "      <td>84</td>\n",
       "      <td>NC-17</td>\n",
       "      <td>Children</td>\n",
       "      <td>2005-05-24 23:05:21</td>\n",
       "    </tr>\n",
       "    <tr>\n",
       "      <th>...</th>\n",
       "      <td>...</td>\n",
       "      <td>...</td>\n",
       "      <td>...</td>\n",
       "      <td>...</td>\n",
       "      <td>...</td>\n",
       "      <td>...</td>\n",
       "      <td>...</td>\n",
       "    </tr>\n",
       "    <tr>\n",
       "      <th>16044</th>\n",
       "      <td>ACADEMY DINOSAUR</td>\n",
       "      <td>6</td>\n",
       "      <td>0.99</td>\n",
       "      <td>86</td>\n",
       "      <td>PG</td>\n",
       "      <td>Documentary</td>\n",
       "      <td>2022-09-19 17:38:13</td>\n",
       "    </tr>\n",
       "    <tr>\n",
       "      <th>16045</th>\n",
       "      <td>ACADEMY DINOSAUR</td>\n",
       "      <td>6</td>\n",
       "      <td>0.99</td>\n",
       "      <td>86</td>\n",
       "      <td>PG</td>\n",
       "      <td>Documentary</td>\n",
       "      <td>2022-09-19 18:52:52</td>\n",
       "    </tr>\n",
       "    <tr>\n",
       "      <th>16046</th>\n",
       "      <td>ACADEMY DINOSAUR</td>\n",
       "      <td>6</td>\n",
       "      <td>0.99</td>\n",
       "      <td>86</td>\n",
       "      <td>PG</td>\n",
       "      <td>Documentary</td>\n",
       "      <td>2022-09-19 18:53:46</td>\n",
       "    </tr>\n",
       "    <tr>\n",
       "      <th>16047</th>\n",
       "      <td>ACADEMY DINOSAUR</td>\n",
       "      <td>6</td>\n",
       "      <td>0.99</td>\n",
       "      <td>86</td>\n",
       "      <td>PG</td>\n",
       "      <td>Documentary</td>\n",
       "      <td>2022-09-19 19:09:13</td>\n",
       "    </tr>\n",
       "    <tr>\n",
       "      <th>16048</th>\n",
       "      <td>ACADEMY DINOSAUR</td>\n",
       "      <td>6</td>\n",
       "      <td>0.99</td>\n",
       "      <td>86</td>\n",
       "      <td>PG</td>\n",
       "      <td>Documentary</td>\n",
       "      <td>2022-09-19 19:45:01</td>\n",
       "    </tr>\n",
       "  </tbody>\n",
       "</table>\n",
       "<p>16049 rows × 7 columns</p>\n",
       "</div>"
      ],
      "text/plain": [
       "                  title  rental_duration  rental_rate  length rating  \\\n",
       "0       BLANKET BEVERLY                7         2.99     148      G   \n",
       "1          FREAKY POCUS                7         2.99     126      R   \n",
       "2         GRADUATE LORD                7         2.99     156      G   \n",
       "3         LOVE SUICIDES                6         0.99     181      R   \n",
       "4       IDOLS SNATCHERS                5         2.99      84  NC-17   \n",
       "...                 ...              ...          ...     ...    ...   \n",
       "16044  ACADEMY DINOSAUR                6         0.99      86     PG   \n",
       "16045  ACADEMY DINOSAUR                6         0.99      86     PG   \n",
       "16046  ACADEMY DINOSAUR                6         0.99      86     PG   \n",
       "16047  ACADEMY DINOSAUR                6         0.99      86     PG   \n",
       "16048  ACADEMY DINOSAUR                6         0.99      86     PG   \n",
       "\n",
       "        ‘category’         rental_date  \n",
       "0           Family 2005-05-24 22:53:30  \n",
       "1            Music 2005-05-24 22:54:33  \n",
       "2         Children 2005-05-24 23:03:39  \n",
       "3           Horror 2005-05-24 23:04:41  \n",
       "4         Children 2005-05-24 23:05:21  \n",
       "...            ...                 ...  \n",
       "16044  Documentary 2022-09-19 17:38:13  \n",
       "16045  Documentary 2022-09-19 18:52:52  \n",
       "16046  Documentary 2022-09-19 18:53:46  \n",
       "16047  Documentary 2022-09-19 19:09:13  \n",
       "16048  Documentary 2022-09-19 19:45:01  \n",
       "\n",
       "[16049 rows x 7 columns]"
      ]
     },
     "execution_count": 6,
     "metadata": {},
     "output_type": "execute_result"
    }
   ],
   "source": [
    "data = pd.read_sql_query(query, engine)\n",
    "data"
   ]
  },
  {
   "cell_type": "markdown",
   "id": "34911dfb",
   "metadata": {},
   "source": [
    "#### 2. Create a query to get the list of films and a boolean indicating if it was rented last month (August 2005). This would be our target variable."
   ]
  },
  {
   "cell_type": "markdown",
   "id": "6769e92d",
   "metadata": {},
   "source": [
    "#### 3. Read the data into a Pandas dataframe."
   ]
  },
  {
   "cell_type": "code",
   "execution_count": 7,
   "id": "a1ebd78d",
   "metadata": {},
   "outputs": [
    {
     "data": {
      "text/html": [
       "<div>\n",
       "<style scoped>\n",
       "    .dataframe tbody tr th:only-of-type {\n",
       "        vertical-align: middle;\n",
       "    }\n",
       "\n",
       "    .dataframe tbody tr th {\n",
       "        vertical-align: top;\n",
       "    }\n",
       "\n",
       "    .dataframe thead th {\n",
       "        text-align: right;\n",
       "    }\n",
       "</style>\n",
       "<table border=\"1\" class=\"dataframe\">\n",
       "  <thead>\n",
       "    <tr style=\"text-align: right;\">\n",
       "      <th></th>\n",
       "      <th>title</th>\n",
       "      <th>rental_duration</th>\n",
       "      <th>rental_rate</th>\n",
       "      <th>length</th>\n",
       "      <th>rating</th>\n",
       "      <th>‘category’</th>\n",
       "      <th>rental_date</th>\n",
       "      <th>rental_month</th>\n",
       "    </tr>\n",
       "  </thead>\n",
       "  <tbody>\n",
       "    <tr>\n",
       "      <th>0</th>\n",
       "      <td>BLANKET BEVERLY</td>\n",
       "      <td>7</td>\n",
       "      <td>2.99</td>\n",
       "      <td>148</td>\n",
       "      <td>G</td>\n",
       "      <td>Family</td>\n",
       "      <td>2005-05-24 22:53:30</td>\n",
       "      <td>5</td>\n",
       "    </tr>\n",
       "    <tr>\n",
       "      <th>1</th>\n",
       "      <td>FREAKY POCUS</td>\n",
       "      <td>7</td>\n",
       "      <td>2.99</td>\n",
       "      <td>126</td>\n",
       "      <td>R</td>\n",
       "      <td>Music</td>\n",
       "      <td>2005-05-24 22:54:33</td>\n",
       "      <td>5</td>\n",
       "    </tr>\n",
       "    <tr>\n",
       "      <th>2</th>\n",
       "      <td>GRADUATE LORD</td>\n",
       "      <td>7</td>\n",
       "      <td>2.99</td>\n",
       "      <td>156</td>\n",
       "      <td>G</td>\n",
       "      <td>Children</td>\n",
       "      <td>2005-05-24 23:03:39</td>\n",
       "      <td>5</td>\n",
       "    </tr>\n",
       "    <tr>\n",
       "      <th>3</th>\n",
       "      <td>LOVE SUICIDES</td>\n",
       "      <td>6</td>\n",
       "      <td>0.99</td>\n",
       "      <td>181</td>\n",
       "      <td>R</td>\n",
       "      <td>Horror</td>\n",
       "      <td>2005-05-24 23:04:41</td>\n",
       "      <td>5</td>\n",
       "    </tr>\n",
       "    <tr>\n",
       "      <th>4</th>\n",
       "      <td>IDOLS SNATCHERS</td>\n",
       "      <td>5</td>\n",
       "      <td>2.99</td>\n",
       "      <td>84</td>\n",
       "      <td>NC-17</td>\n",
       "      <td>Children</td>\n",
       "      <td>2005-05-24 23:05:21</td>\n",
       "      <td>5</td>\n",
       "    </tr>\n",
       "    <tr>\n",
       "      <th>...</th>\n",
       "      <td>...</td>\n",
       "      <td>...</td>\n",
       "      <td>...</td>\n",
       "      <td>...</td>\n",
       "      <td>...</td>\n",
       "      <td>...</td>\n",
       "      <td>...</td>\n",
       "      <td>...</td>\n",
       "    </tr>\n",
       "    <tr>\n",
       "      <th>16044</th>\n",
       "      <td>ACADEMY DINOSAUR</td>\n",
       "      <td>6</td>\n",
       "      <td>0.99</td>\n",
       "      <td>86</td>\n",
       "      <td>PG</td>\n",
       "      <td>Documentary</td>\n",
       "      <td>2022-09-19 17:38:13</td>\n",
       "      <td>9</td>\n",
       "    </tr>\n",
       "    <tr>\n",
       "      <th>16045</th>\n",
       "      <td>ACADEMY DINOSAUR</td>\n",
       "      <td>6</td>\n",
       "      <td>0.99</td>\n",
       "      <td>86</td>\n",
       "      <td>PG</td>\n",
       "      <td>Documentary</td>\n",
       "      <td>2022-09-19 18:52:52</td>\n",
       "      <td>9</td>\n",
       "    </tr>\n",
       "    <tr>\n",
       "      <th>16046</th>\n",
       "      <td>ACADEMY DINOSAUR</td>\n",
       "      <td>6</td>\n",
       "      <td>0.99</td>\n",
       "      <td>86</td>\n",
       "      <td>PG</td>\n",
       "      <td>Documentary</td>\n",
       "      <td>2022-09-19 18:53:46</td>\n",
       "      <td>9</td>\n",
       "    </tr>\n",
       "    <tr>\n",
       "      <th>16047</th>\n",
       "      <td>ACADEMY DINOSAUR</td>\n",
       "      <td>6</td>\n",
       "      <td>0.99</td>\n",
       "      <td>86</td>\n",
       "      <td>PG</td>\n",
       "      <td>Documentary</td>\n",
       "      <td>2022-09-19 19:09:13</td>\n",
       "      <td>9</td>\n",
       "    </tr>\n",
       "    <tr>\n",
       "      <th>16048</th>\n",
       "      <td>ACADEMY DINOSAUR</td>\n",
       "      <td>6</td>\n",
       "      <td>0.99</td>\n",
       "      <td>86</td>\n",
       "      <td>PG</td>\n",
       "      <td>Documentary</td>\n",
       "      <td>2022-09-19 19:45:01</td>\n",
       "      <td>9</td>\n",
       "    </tr>\n",
       "  </tbody>\n",
       "</table>\n",
       "<p>16049 rows × 8 columns</p>\n",
       "</div>"
      ],
      "text/plain": [
       "                  title  rental_duration  rental_rate  length rating  \\\n",
       "0       BLANKET BEVERLY                7         2.99     148      G   \n",
       "1          FREAKY POCUS                7         2.99     126      R   \n",
       "2         GRADUATE LORD                7         2.99     156      G   \n",
       "3         LOVE SUICIDES                6         0.99     181      R   \n",
       "4       IDOLS SNATCHERS                5         2.99      84  NC-17   \n",
       "...                 ...              ...          ...     ...    ...   \n",
       "16044  ACADEMY DINOSAUR                6         0.99      86     PG   \n",
       "16045  ACADEMY DINOSAUR                6         0.99      86     PG   \n",
       "16046  ACADEMY DINOSAUR                6         0.99      86     PG   \n",
       "16047  ACADEMY DINOSAUR                6         0.99      86     PG   \n",
       "16048  ACADEMY DINOSAUR                6         0.99      86     PG   \n",
       "\n",
       "        ‘category’         rental_date  rental_month  \n",
       "0           Family 2005-05-24 22:53:30             5  \n",
       "1            Music 2005-05-24 22:54:33             5  \n",
       "2         Children 2005-05-24 23:03:39             5  \n",
       "3           Horror 2005-05-24 23:04:41             5  \n",
       "4         Children 2005-05-24 23:05:21             5  \n",
       "...            ...                 ...           ...  \n",
       "16044  Documentary 2022-09-19 17:38:13             9  \n",
       "16045  Documentary 2022-09-19 18:52:52             9  \n",
       "16046  Documentary 2022-09-19 18:53:46             9  \n",
       "16047  Documentary 2022-09-19 19:09:13             9  \n",
       "16048  Documentary 2022-09-19 19:45:01             9  \n",
       "\n",
       "[16049 rows x 8 columns]"
      ]
     },
     "execution_count": 7,
     "metadata": {},
     "output_type": "execute_result"
    }
   ],
   "source": [
    "data['rental_month']=pd.DatetimeIndex(data['rental_date']).month\n",
    "data"
   ]
  },
  {
   "cell_type": "code",
   "execution_count": 8,
   "id": "03ae27ff",
   "metadata": {},
   "outputs": [
    {
     "data": {
      "text/plain": [
       "0    14893\n",
       "1     1156\n",
       "Name: rented_may, dtype: int64"
      ]
     },
     "execution_count": 8,
     "metadata": {},
     "output_type": "execute_result"
    }
   ],
   "source": [
    "# working on my target (movies rented in may aka 1)\n",
    "in_may = []\n",
    "for number in data['rental_month']:\n",
    "    if number == 5:\n",
    "        in_may.append(1)\n",
    "    else:\n",
    "        in_may.append(0)\n",
    "        \n",
    "data['rented_may'] = in_may\n",
    "data['rented_may'].value_counts()"
   ]
  },
  {
   "cell_type": "code",
   "execution_count": 21,
   "id": "449c0785",
   "metadata": {},
   "outputs": [
    {
     "data": {
      "text/html": [
       "<div>\n",
       "<style scoped>\n",
       "    .dataframe tbody tr th:only-of-type {\n",
       "        vertical-align: middle;\n",
       "    }\n",
       "\n",
       "    .dataframe tbody tr th {\n",
       "        vertical-align: top;\n",
       "    }\n",
       "\n",
       "    .dataframe thead th {\n",
       "        text-align: right;\n",
       "    }\n",
       "</style>\n",
       "<table border=\"1\" class=\"dataframe\">\n",
       "  <thead>\n",
       "    <tr style=\"text-align: right;\">\n",
       "      <th></th>\n",
       "      <th>title</th>\n",
       "      <th>rental_duration</th>\n",
       "      <th>rental_rate</th>\n",
       "      <th>length</th>\n",
       "      <th>rating</th>\n",
       "      <th>‘category’</th>\n",
       "      <th>rented_may</th>\n",
       "    </tr>\n",
       "  </thead>\n",
       "  <tbody>\n",
       "    <tr>\n",
       "      <th>0</th>\n",
       "      <td>BLANKET BEVERLY</td>\n",
       "      <td>7</td>\n",
       "      <td>2.99</td>\n",
       "      <td>148</td>\n",
       "      <td>G</td>\n",
       "      <td>Family</td>\n",
       "      <td>1</td>\n",
       "    </tr>\n",
       "    <tr>\n",
       "      <th>1</th>\n",
       "      <td>FREAKY POCUS</td>\n",
       "      <td>7</td>\n",
       "      <td>2.99</td>\n",
       "      <td>126</td>\n",
       "      <td>R</td>\n",
       "      <td>Music</td>\n",
       "      <td>1</td>\n",
       "    </tr>\n",
       "    <tr>\n",
       "      <th>2</th>\n",
       "      <td>GRADUATE LORD</td>\n",
       "      <td>7</td>\n",
       "      <td>2.99</td>\n",
       "      <td>156</td>\n",
       "      <td>G</td>\n",
       "      <td>Children</td>\n",
       "      <td>1</td>\n",
       "    </tr>\n",
       "    <tr>\n",
       "      <th>3</th>\n",
       "      <td>LOVE SUICIDES</td>\n",
       "      <td>6</td>\n",
       "      <td>0.99</td>\n",
       "      <td>181</td>\n",
       "      <td>R</td>\n",
       "      <td>Horror</td>\n",
       "      <td>1</td>\n",
       "    </tr>\n",
       "    <tr>\n",
       "      <th>4</th>\n",
       "      <td>IDOLS SNATCHERS</td>\n",
       "      <td>5</td>\n",
       "      <td>2.99</td>\n",
       "      <td>84</td>\n",
       "      <td>NC-17</td>\n",
       "      <td>Children</td>\n",
       "      <td>1</td>\n",
       "    </tr>\n",
       "    <tr>\n",
       "      <th>...</th>\n",
       "      <td>...</td>\n",
       "      <td>...</td>\n",
       "      <td>...</td>\n",
       "      <td>...</td>\n",
       "      <td>...</td>\n",
       "      <td>...</td>\n",
       "      <td>...</td>\n",
       "    </tr>\n",
       "    <tr>\n",
       "      <th>16044</th>\n",
       "      <td>ACADEMY DINOSAUR</td>\n",
       "      <td>6</td>\n",
       "      <td>0.99</td>\n",
       "      <td>86</td>\n",
       "      <td>PG</td>\n",
       "      <td>Documentary</td>\n",
       "      <td>0</td>\n",
       "    </tr>\n",
       "    <tr>\n",
       "      <th>16045</th>\n",
       "      <td>ACADEMY DINOSAUR</td>\n",
       "      <td>6</td>\n",
       "      <td>0.99</td>\n",
       "      <td>86</td>\n",
       "      <td>PG</td>\n",
       "      <td>Documentary</td>\n",
       "      <td>0</td>\n",
       "    </tr>\n",
       "    <tr>\n",
       "      <th>16046</th>\n",
       "      <td>ACADEMY DINOSAUR</td>\n",
       "      <td>6</td>\n",
       "      <td>0.99</td>\n",
       "      <td>86</td>\n",
       "      <td>PG</td>\n",
       "      <td>Documentary</td>\n",
       "      <td>0</td>\n",
       "    </tr>\n",
       "    <tr>\n",
       "      <th>16047</th>\n",
       "      <td>ACADEMY DINOSAUR</td>\n",
       "      <td>6</td>\n",
       "      <td>0.99</td>\n",
       "      <td>86</td>\n",
       "      <td>PG</td>\n",
       "      <td>Documentary</td>\n",
       "      <td>0</td>\n",
       "    </tr>\n",
       "    <tr>\n",
       "      <th>16048</th>\n",
       "      <td>ACADEMY DINOSAUR</td>\n",
       "      <td>6</td>\n",
       "      <td>0.99</td>\n",
       "      <td>86</td>\n",
       "      <td>PG</td>\n",
       "      <td>Documentary</td>\n",
       "      <td>0</td>\n",
       "    </tr>\n",
       "  </tbody>\n",
       "</table>\n",
       "<p>16049 rows × 7 columns</p>\n",
       "</div>"
      ],
      "text/plain": [
       "                  title  rental_duration  rental_rate  length rating  \\\n",
       "0       BLANKET BEVERLY                7         2.99     148      G   \n",
       "1          FREAKY POCUS                7         2.99     126      R   \n",
       "2         GRADUATE LORD                7         2.99     156      G   \n",
       "3         LOVE SUICIDES                6         0.99     181      R   \n",
       "4       IDOLS SNATCHERS                5         2.99      84  NC-17   \n",
       "...                 ...              ...          ...     ...    ...   \n",
       "16044  ACADEMY DINOSAUR                6         0.99      86     PG   \n",
       "16045  ACADEMY DINOSAUR                6         0.99      86     PG   \n",
       "16046  ACADEMY DINOSAUR                6         0.99      86     PG   \n",
       "16047  ACADEMY DINOSAUR                6         0.99      86     PG   \n",
       "16048  ACADEMY DINOSAUR                6         0.99      86     PG   \n",
       "\n",
       "        ‘category’  rented_may  \n",
       "0           Family           1  \n",
       "1            Music           1  \n",
       "2         Children           1  \n",
       "3           Horror           1  \n",
       "4         Children           1  \n",
       "...            ...         ...  \n",
       "16044  Documentary           0  \n",
       "16045  Documentary           0  \n",
       "16046  Documentary           0  \n",
       "16047  Documentary           0  \n",
       "16048  Documentary           0  \n",
       "\n",
       "[16049 rows x 7 columns]"
      ]
     },
     "execution_count": 21,
     "metadata": {},
     "output_type": "execute_result"
    }
   ],
   "source": [
    "# dropping columns which I no longer need\n",
    "data = data.drop(['rental_date','rental_month'], axis=1)\n",
    "data"
   ]
  },
  {
   "cell_type": "markdown",
   "id": "ad17d1c2",
   "metadata": {},
   "source": [
    "#### 4. Analyze extracted features and transform them. You may need to encode some categorical variables, or scale numerical variables."
   ]
  },
  {
   "cell_type": "code",
   "execution_count": 8,
   "id": "ec3bc6ae",
   "metadata": {},
   "outputs": [],
   "source": [
    "# creating a new df with only movie rented in may\n",
    "\n",
    "#data_may = new_data[new_data['rented_may']==1]\n",
    "#data_may.head()\n",
    "#data_may.shape"
   ]
  },
  {
   "cell_type": "code",
   "execution_count": 22,
   "id": "354d075e",
   "metadata": {},
   "outputs": [
    {
     "data": {
      "text/plain": [
       "title              0\n",
       "rental_duration    0\n",
       "rental_rate        0\n",
       "length             0\n",
       "rating             0\n",
       "‘category’         0\n",
       "rented_may         0\n",
       "dtype: int64"
      ]
     },
     "execution_count": 22,
     "metadata": {},
     "output_type": "execute_result"
    }
   ],
   "source": [
    "# no nan values\n",
    "data.isna().sum() "
   ]
  },
  {
   "cell_type": "code",
   "execution_count": null,
   "id": "4d7e3097",
   "metadata": {},
   "outputs": [],
   "source": [
    "data.drop_duplicates() "
   ]
  },
  {
   "cell_type": "code",
   "execution_count": 23,
   "id": "2f1154f4",
   "metadata": {},
   "outputs": [
    {
     "data": {
      "text/plain": [
       "(16049, 7)"
      ]
     },
     "execution_count": 23,
     "metadata": {},
     "output_type": "execute_result"
    }
   ],
   "source": [
    "data.shape"
   ]
  },
  {
   "cell_type": "code",
   "execution_count": 24,
   "id": "f414af43",
   "metadata": {},
   "outputs": [
    {
     "data": {
      "text/html": [
       "<div>\n",
       "<style scoped>\n",
       "    .dataframe tbody tr th:only-of-type {\n",
       "        vertical-align: middle;\n",
       "    }\n",
       "\n",
       "    .dataframe tbody tr th {\n",
       "        vertical-align: top;\n",
       "    }\n",
       "\n",
       "    .dataframe thead th {\n",
       "        text-align: right;\n",
       "    }\n",
       "</style>\n",
       "<table border=\"1\" class=\"dataframe\">\n",
       "  <thead>\n",
       "    <tr style=\"text-align: right;\">\n",
       "      <th></th>\n",
       "      <th>count</th>\n",
       "      <th>mean</th>\n",
       "      <th>std</th>\n",
       "      <th>min</th>\n",
       "      <th>25%</th>\n",
       "      <th>50%</th>\n",
       "      <th>75%</th>\n",
       "      <th>max</th>\n",
       "    </tr>\n",
       "  </thead>\n",
       "  <tbody>\n",
       "    <tr>\n",
       "      <th>rental_duration</th>\n",
       "      <td>16049.0</td>\n",
       "      <td>4.935822</td>\n",
       "      <td>1.401597</td>\n",
       "      <td>3.00</td>\n",
       "      <td>4.00</td>\n",
       "      <td>5.00</td>\n",
       "      <td>6.00</td>\n",
       "      <td>7.00</td>\n",
       "    </tr>\n",
       "    <tr>\n",
       "      <th>rental_rate</th>\n",
       "      <td>16049.0</td>\n",
       "      <td>2.942022</td>\n",
       "      <td>1.649781</td>\n",
       "      <td>0.99</td>\n",
       "      <td>0.99</td>\n",
       "      <td>2.99</td>\n",
       "      <td>4.99</td>\n",
       "      <td>4.99</td>\n",
       "    </tr>\n",
       "    <tr>\n",
       "      <th>length</th>\n",
       "      <td>16049.0</td>\n",
       "      <td>114.962054</td>\n",
       "      <td>40.099359</td>\n",
       "      <td>46.00</td>\n",
       "      <td>81.00</td>\n",
       "      <td>113.00</td>\n",
       "      <td>148.00</td>\n",
       "      <td>185.00</td>\n",
       "    </tr>\n",
       "    <tr>\n",
       "      <th>rented_may</th>\n",
       "      <td>16049.0</td>\n",
       "      <td>0.072029</td>\n",
       "      <td>0.258545</td>\n",
       "      <td>0.00</td>\n",
       "      <td>0.00</td>\n",
       "      <td>0.00</td>\n",
       "      <td>0.00</td>\n",
       "      <td>1.00</td>\n",
       "    </tr>\n",
       "  </tbody>\n",
       "</table>\n",
       "</div>"
      ],
      "text/plain": [
       "                   count        mean        std    min    25%     50%     75%  \\\n",
       "rental_duration  16049.0    4.935822   1.401597   3.00   4.00    5.00    6.00   \n",
       "rental_rate      16049.0    2.942022   1.649781   0.99   0.99    2.99    4.99   \n",
       "length           16049.0  114.962054  40.099359  46.00  81.00  113.00  148.00   \n",
       "rented_may       16049.0    0.072029   0.258545   0.00   0.00    0.00    0.00   \n",
       "\n",
       "                    max  \n",
       "rental_duration    7.00  \n",
       "rental_rate        4.99  \n",
       "length           185.00  \n",
       "rented_may         1.00  "
      ]
     },
     "execution_count": 24,
     "metadata": {},
     "output_type": "execute_result"
    }
   ],
   "source": [
    "data.describe().T"
   ]
  },
  {
   "cell_type": "code",
   "execution_count": 25,
   "id": "9d2654f4",
   "metadata": {},
   "outputs": [
    {
     "data": {
      "text/plain": [
       "title               object\n",
       "rental_duration      int64\n",
       "rental_rate        float64\n",
       "length               int64\n",
       "rating              object\n",
       "‘category’          object\n",
       "rented_may           int64\n",
       "dtype: object"
      ]
     },
     "execution_count": 25,
     "metadata": {},
     "output_type": "execute_result"
    }
   ],
   "source": [
    "data.dtypes\n"
   ]
  },
  {
   "cell_type": "code",
   "execution_count": 26,
   "id": "41e2f167",
   "metadata": {},
   "outputs": [
    {
     "data": {
      "text/plain": [
       "3    3412\n",
       "6    3397\n",
       "4    3251\n",
       "5    3165\n",
       "7    2824\n",
       "Name: rental_duration, dtype: int64"
      ]
     },
     "execution_count": 26,
     "metadata": {},
     "output_type": "execute_result"
    }
   ],
   "source": [
    "data['rental_duration'].value_counts()"
   ]
  },
  {
   "cell_type": "code",
   "execution_count": 27,
   "id": "b68f96f4",
   "metadata": {},
   "outputs": [
    {
     "data": {
      "text/plain": [
       "0.99    5657\n",
       "4.99    5272\n",
       "2.99    5120\n",
       "Name: rental_rate, dtype: int64"
      ]
     },
     "execution_count": 27,
     "metadata": {},
     "output_type": "execute_result"
    }
   ],
   "source": [
    "data['rental_rate'].value_counts()"
   ]
  },
  {
   "cell_type": "code",
   "execution_count": 28,
   "id": "dae787c9",
   "metadata": {},
   "outputs": [
    {
     "data": {
      "text/plain": [
       "PG-13    3585\n",
       "NC-17    3293\n",
       "PG       3217\n",
       "R        3181\n",
       "G        2773\n",
       "Name: rating, dtype: int64"
      ]
     },
     "execution_count": 28,
     "metadata": {},
     "output_type": "execute_result"
    }
   ],
   "source": [
    "data['rating'].value_counts()"
   ]
  },
  {
   "cell_type": "code",
   "execution_count": 29,
   "id": "d3be19c3",
   "metadata": {},
   "outputs": [
    {
     "ename": "SyntaxError",
     "evalue": "invalid character '‘' (U+2018) (4124251994.py, line 1)",
     "output_type": "error",
     "traceback": [
      "\u001b[0;36m  Cell \u001b[0;32mIn [29], line 1\u001b[0;36m\u001b[0m\n\u001b[0;31m    data[‘category’].value_counts()\u001b[0m\n\u001b[0m         ^\u001b[0m\n\u001b[0;31mSyntaxError\u001b[0m\u001b[0;31m:\u001b[0m invalid character '‘' (U+2018)\n"
     ]
    }
   ],
   "source": [
    "data[‘category’].value_counts()"
   ]
  },
  {
   "cell_type": "code",
   "execution_count": 30,
   "id": "b9de05d5",
   "metadata": {},
   "outputs": [
    {
     "data": {
      "image/png": "[encoded data removed]",
      "text/plain": [
       "<Figure size 800x600 with 2 Axes>"
      ]
     },
     "metadata": {},
     "output_type": "display_data"
    }
   ],
   "source": [
    "import matplotlib.pyplot as plt\n",
    "import seaborn as sns\n",
    "%matplotlib inline\n",
    "\n",
    "\n",
    "corr_matrix=data.corr(method='pearson')  # default\n",
    "fig, ax = plt.subplots(figsize=(8, 6))\n",
    "ax = sns.heatmap(corr_matrix, annot=True)\n",
    "plt.show()\n",
    "\n",
    "# There is no correlation between the features. "
   ]
  },
  {
   "cell_type": "code",
   "execution_count": 31,
   "id": "ee4079d4",
   "metadata": {},
   "outputs": [],
   "source": [
    "# making into category as i want to treat it as a categorical value \n",
    "data['rental_duration'] = data['rental_duration'].astype(object)\n",
    "data['rental_rate'] = data['rental_rate'].astype(object)"
   ]
  },
  {
   "cell_type": "markdown",
   "id": "3d5a3ef7",
   "metadata": {},
   "source": [
    "### Need to X-y-split AND train-test-split BEFORE I apply transformations, then train transformation on training set only"
   ]
  },
  {
   "cell_type": "code",
   "execution_count": 32,
   "id": "0aac6a0b",
   "metadata": {},
   "outputs": [],
   "source": [
    "\n",
    "# train-test-split before transformations, then train transformation on training set only\n",
    "y = data['rented_may']\n",
    "X = data.drop('rented_may', axis=1)\n",
    "\n",
    "\n",
    "from sklearn.model_selection import train_test_split\n",
    "X_train, X_test, y_train, y_test = train_test_split(X, y, test_size=0.2, random_state=42)"
   ]
  },
  {
   "cell_type": "code",
   "execution_count": 33,
   "id": "f31e7254",
   "metadata": {},
   "outputs": [
    {
     "data": {
      "text/plain": [
       "title              object\n",
       "rental_duration    object\n",
       "rental_rate        object\n",
       "length              int64\n",
       "rating             object\n",
       "‘category’         object\n",
       "rented_may          int64\n",
       "dtype: object"
      ]
     },
     "execution_count": 33,
     "metadata": {},
     "output_type": "execute_result"
    }
   ],
   "source": [
    "data.dtypes # got no numerical anymore"
   ]
  },
  {
   "cell_type": "code",
   "execution_count": null,
   "id": "cad34b41",
   "metadata": {},
   "outputs": [],
   "source": [
    "#import numpy as np\n",
    "\n",
    "#X_num = data.select_dtypes(include = np.number) # i might need this\n",
    "# X_cat = data.select_dtypes(include = object)"
   ]
  },
  {
   "cell_type": "code",
   "execution_count": 35,
   "id": "af8f9900",
   "metadata": {},
   "outputs": [],
   "source": [
    "# X-y-split AND train-test-split BEFORE I apply transformations, \n",
    "# then train transformation on training set only\n",
    "\n",
    "y = data['title']\n",
    "X = data.drop('title', axis=1)\n",
    "from sklearn.model_selection import train_test_split\n",
    "X_train, X_test, y_train, y_test = train_test_split(X, y, test_size=0.2, random_state=42)\n",
    "\n",
    "\n",
    "\n"
   ]
  },
  {
   "cell_type": "code",
   "execution_count": 36,
   "id": "be6a83b0",
   "metadata": {},
   "outputs": [],
   "source": [
    "from sklearn.preprocessing import OneHotEncoder\n",
    "# This encoder only will be run one time\n",
    "onehotencoder = OneHotEncoder(drop='first', handle_unknown = 'ignore').fit(X_train)\n"
   ]
  },
  {
   "cell_type": "markdown",
   "id": "b643a10f",
   "metadata": {},
   "source": [
    "#### Create a logistic regression model to predict this variable from the cleaned data."
   ]
  },
  {
   "cell_type": "markdown",
   "id": "903a8d53",
   "metadata": {},
   "source": [
    "At this point the questining everything, whether the query is good or not, do we need to work with 16k rows and the duplicates in the df or only import from sql the movies which were rented in may? Or is it enough if I filter those movies with the boolean and drop the duplicates. "
   ]
  }
 ],
 "metadata": {
  "kernelspec": {
   "display_name": "Python 3 (ipykernel)",
   "language": "python",
   "name": "python3"
  },
  "language_info": {
   "codemirror_mode": {
    "name": "ipython",
    "version": 3
   },
   "file_extension": ".py",
   "mimetype": "text/x-python",
   "name": "python",
   "nbconvert_exporter": "python",
   "pygments_lexer": "ipython3",
   "version": "3.9.12"
  }
 },
 "nbformat": 4,
 "nbformat_minor": 5
}
